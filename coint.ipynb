{
 "cells": [
  {
   "cell_type": "markdown",
   "metadata": {},
   "source": [
    "# Cointegration Testing:\n",
    "1. Retrieves data from yahoo finance API\n",
    "2. Uses yahooquery's Screener() class to request assets from yfinance related to a specific industry"
   ]
  },
  {
   "cell_type": "code",
   "execution_count": 2,
   "metadata": {},
   "outputs": [],
   "source": [
    "import yfinance as yf\n",
    "from yahooquery import Screener\n",
    "import pandas as pd\n",
    "import matplotlib.pyplot as plt\n",
    "from sklearn.preprocessing import StandardScaler\n",
    "from statsmodels.tsa.stattools import coint, adfuller\n",
    "import numpy as np\n",
    "import itertools\n",
    "import math"
   ]
  },
  {
   "cell_type": "code",
   "execution_count": 41,
   "metadata": {},
   "outputs": [
    {
     "name": "stdout",
     "output_type": "stream",
     "text": [
      "Number of industries returned by screener:  383\n"
     ]
    },
    {
     "data": {
      "text/plain": [
       "['ACN',\n",
       " 'IBM',\n",
       " 'FI',\n",
       " 'INFY',\n",
       " 'FIS',\n",
       " 'IT',\n",
       " 'CTSH',\n",
       " 'WIT',\n",
       " 'LDOS',\n",
       " 'BR',\n",
       " 'CDW',\n",
       " 'GIB',\n",
       " 'EPAM',\n",
       " 'JKHY',\n",
       " 'CACI',\n",
       " 'PSN',\n",
       " 'GLOB',\n",
       " 'AUR',\n",
       " 'G',\n",
       " 'SAIC',\n",
       " 'EXLS',\n",
       " 'KD',\n",
       " 'INGM',\n",
       " 'ASGN',\n",
       " 'DXC',\n",
       " 'CNXC',\n",
       " 'WNS',\n",
       " 'VYX',\n",
       " 'NABL',\n",
       " 'APLD',\n",
       " 'TASK',\n",
       " 'FORTY',\n",
       " 'XRX',\n",
       " 'NYAX',\n",
       " 'PENG',\n",
       " 'HCKT',\n",
       " 'DMRC',\n",
       " 'CTLP',\n",
       " 'UIS',\n",
       " 'MGIC']"
      ]
     },
     "execution_count": 41,
     "metadata": {},
     "output_type": "execute_result"
    }
   ],
   "source": [
    "# The below instantiates an instance of the Screener class and returns all available screeners.\n",
    "# For testing sake, the first 10 screeners returned are of interest\n",
    "# Can specify filters for the screener by passing in ['most_actives','day_gainers', *count] as a parameter to \n",
    "# s.get_screeners(['most_actives', 'day_gainers'], 5) which returns a dictionary/JSON\n",
    "NUMBER_ASSETS_TO_DOWNLOAD = 200\n",
    "screener = Screener()\n",
    "industries = screener.available_screeners\n",
    "print(\"Number of industries returned by screener: \",len(industries))\n",
    "selection = industries\n",
    "\n",
    "industry = 'information_technology_services'\n",
    "stocks = selection[selection.index(industry)]\n",
    "# returns assets in the stocks industry\n",
    "stocks_info = screener.get_screeners(stocks, count=NUMBER_ASSETS_TO_DOWNLOAD)\n",
    "assets = stocks_info[industry]['quotes']\n",
    "symbols = []\n",
    "for asset in assets:\n",
    "    symbols.append(asset['symbol'])\n",
    "# Symbols now contains all the 'tickers' of the assets we selected by industry, stocks\n",
    "selection\n",
    "symbols"
   ]
  },
  {
   "cell_type": "markdown",
   "metadata": {},
   "source": [
    "### Other useful functions from yahooquery API, functionality is self explanatory:\n",
    "1. import yahooquery as yq\n",
    "   data = yq.get_currencies()\n",
    "\n",
    "2. yq.get_market_summary(country='hong kong')\n",
    "3. data = yq.search(ticker), other optional parameters = [query,quotes_count,news_count,first_quote,country]\n",
    "\n",
    "Information source: https://yahooquery.dpguthrie.com/guide/misc/"
   ]
  },
  {
   "cell_type": "code",
   "execution_count": 83,
   "metadata": {},
   "outputs": [
    {
     "data": {
      "text/plain": [
       "{'AAPL':                                  Open        High         Low       Close  \\\n",
       " Date                                                                        \n",
       " 2022-11-14 00:00:00-05:00  147.419760  148.716126  145.895778  146.736938   \n",
       " 2022-11-15 00:00:00-05:00  150.635929  151.991667  147.014013  148.478607   \n",
       " 2022-11-16 00:00:00-05:00  147.578081  148.310370  145.757217  147.241608   \n",
       " 2022-11-17 00:00:00-05:00  144.906185  149.903636  144.629100  149.151550   \n",
       " 2022-11-18 00:00:00-05:00  150.724996  151.110937  148.409351  149.715607   \n",
       " ...                               ...         ...         ...         ...   \n",
       " 2024-11-06 00:00:00-05:00  222.365355  225.821559  220.946918  222.475235   \n",
       " 2024-11-07 00:00:00-05:00  224.383137  227.629565  224.323205  227.229996   \n",
       " 2024-11-08 00:00:00-05:00  227.169998  228.660004  226.410004  226.960007   \n",
       " 2024-11-11 00:00:00-05:00  225.000000  225.699997  221.500000  224.229996   \n",
       " 2024-11-12 00:00:00-05:00  224.630005  225.470001  223.550003  225.410004   \n",
       " \n",
       "                              Volume  Dividends  Stock Splits  \n",
       " Date                                                          \n",
       " 2022-11-14 00:00:00-05:00  73374100       0.00           0.0  \n",
       " 2022-11-15 00:00:00-05:00  89868300       0.00           0.0  \n",
       " 2022-11-16 00:00:00-05:00  64218300       0.00           0.0  \n",
       " 2022-11-17 00:00:00-05:00  80389400       0.00           0.0  \n",
       " 2022-11-18 00:00:00-05:00  74829600       0.00           0.0  \n",
       " ...                             ...        ...           ...  \n",
       " 2024-11-06 00:00:00-05:00  54561100       0.00           0.0  \n",
       " 2024-11-07 00:00:00-05:00  42137700       0.00           0.0  \n",
       " 2024-11-08 00:00:00-05:00  38328800       0.25           0.0  \n",
       " 2024-11-11 00:00:00-05:00  41949000       0.00           0.0  \n",
       " 2024-11-12 00:00:00-05:00  12782241       0.00           0.0  \n",
       " \n",
       " [502 rows x 7 columns],\n",
       " 'META':                                  Open        High         Low       Close  \\\n",
       " Date                                                                        \n",
       " 2022-11-14 00:00:00-05:00  110.656829  115.920978  110.467404  113.877136   \n",
       " 2022-11-15 00:00:00-05:00  115.721576  118.383559  114.066563  116.728546   \n",
       " 2022-11-16 00:00:00-05:00  114.156283  115.731542  112.321810  112.890099   \n",
       " 2022-11-17 00:00:00-05:00  110.078577  111.992811  109.470407  111.115448   \n",
       " 2022-11-18 00:00:00-05:00  113.458393  113.976828  110.287938  111.713646   \n",
       " ...                               ...         ...         ...         ...   \n",
       " 2024-11-06 00:00:00-05:00  562.750000  573.000000  555.169983  572.049988   \n",
       " 2024-11-07 00:00:00-05:00  576.890015  594.799988  575.210022  591.700012   \n",
       " 2024-11-08 00:00:00-05:00  591.539978  593.099976  584.520020  589.340027   \n",
       " 2024-11-11 00:00:00-05:00  586.359985  587.000000  576.510010  583.169983   \n",
       " 2024-11-12 00:00:00-05:00  587.544983  599.659973  580.440002  582.918823   \n",
       " \n",
       "                              Volume  Dividends  Stock Splits  \n",
       " Date                                                          \n",
       " 2022-11-14 00:00:00-05:00  53395000        0.0           0.0  \n",
       " 2022-11-15 00:00:00-05:00  50670500        0.0           0.0  \n",
       " 2022-11-16 00:00:00-05:00  33287800        0.0           0.0  \n",
       " 2022-11-17 00:00:00-05:00  35093800        0.0           0.0  \n",
       " 2022-11-18 00:00:00-05:00  33357700        0.0           0.0  \n",
       " ...                             ...        ...           ...  \n",
       " 2024-11-06 00:00:00-05:00  18305400        0.0           0.0  \n",
       " 2024-11-07 00:00:00-05:00  14653700        0.0           0.0  \n",
       " 2024-11-08 00:00:00-05:00   9415700        0.0           0.0  \n",
       " 2024-11-11 00:00:00-05:00  10187900        0.0           0.0  \n",
       " 2024-11-12 00:00:00-05:00   9527462        0.0           0.0  \n",
       " \n",
       " [502 rows x 7 columns],\n",
       " 'AMZN':                                  Open        High         Low       Close  \\\n",
       " Date                                                                        \n",
       " 2022-11-14 00:00:00-05:00   98.769997  100.120003   97.290001   98.489998   \n",
       " 2022-11-15 00:00:00-05:00  103.209999  103.790001   97.339996   98.940002   \n",
       " 2022-11-16 00:00:00-05:00   96.849998   98.489998   95.540001   97.120003   \n",
       " 2022-11-17 00:00:00-05:00   95.370003   96.970001   94.029999   94.849998   \n",
       " 2022-11-18 00:00:00-05:00   95.949997   95.989998   92.480003   94.139999   \n",
       " ...                               ...         ...         ...         ...   \n",
       " 2024-11-06 00:00:00-05:00  200.009995  207.550003  199.139999  207.089996   \n",
       " 2024-11-07 00:00:00-05:00  207.440002  212.250000  207.190002  210.050003   \n",
       " 2024-11-08 00:00:00-05:00  209.720001  209.960007  207.440002  208.179993   \n",
       " 2024-11-11 00:00:00-05:00  208.500000  209.649994  205.589996  206.839996   \n",
       " 2024-11-12 00:00:00-05:00  208.320007  208.320007  206.169998  206.539993   \n",
       " \n",
       "                               Volume  Dividends  Stock Splits  \n",
       " Date                                                           \n",
       " 2022-11-14 00:00:00-05:00   99533100        0.0           0.0  \n",
       " 2022-11-15 00:00:00-05:00  111336300        0.0           0.0  \n",
       " 2022-11-16 00:00:00-05:00   87958800        0.0           0.0  \n",
       " 2022-11-17 00:00:00-05:00   82617900        0.0           0.0  \n",
       " 2022-11-18 00:00:00-05:00   72428200        0.0           0.0  \n",
       " ...                              ...        ...           ...  \n",
       " 2024-11-06 00:00:00-05:00   72292200        0.0           0.0  \n",
       " 2024-11-07 00:00:00-05:00   52878400        0.0           0.0  \n",
       " 2024-11-08 00:00:00-05:00   36075800        0.0           0.0  \n",
       " 2024-11-11 00:00:00-05:00   35405100        0.0           0.0  \n",
       " 2024-11-12 00:00:00-05:00   12387670        0.0           0.0  \n",
       " \n",
       " [502 rows x 7 columns],\n",
       " 'GOOG':                                  Open        High         Low       Close  \\\n",
       " Date                                                                        \n",
       " 2022-11-14 00:00:00-05:00   95.266046   96.941931   94.879993   95.794746   \n",
       " 2022-11-15 00:00:00-05:00   98.428276  100.173989   96.782317   98.478157   \n",
       " 2022-11-16 00:00:00-05:00   97.779865   99.605384   97.662158   98.747490   \n",
       " 2022-11-17 00:00:00-05:00   96.941924   99.236292   96.862118   98.258690   \n",
       " 2022-11-18 00:00:00-05:00   98.767444   98.917078   96.503001   97.560410   \n",
       " ...                               ...         ...         ...         ...   \n",
       " 2024-11-06 00:00:00-05:00  175.350006  178.639999  175.039993  178.330002   \n",
       " 2024-11-07 00:00:00-05:00  179.110001  182.580002  178.889999  182.279999   \n",
       " 2024-11-08 00:00:00-05:00  182.000000  182.350006  179.570007  179.860001   \n",
       " 2024-11-11 00:00:00-05:00  180.070007  182.085007  179.990005  181.970001   \n",
       " 2024-11-12 00:00:00-05:00  181.330994  183.419998  180.990005  181.809998   \n",
       " \n",
       "                              Volume  Dividends  Stock Splits  \n",
       " Date                                                          \n",
       " 2022-11-14 00:00:00-05:00  24170100        0.0           0.0  \n",
       " 2022-11-15 00:00:00-05:00  31831000        0.0           0.0  \n",
       " 2022-11-16 00:00:00-05:00  24660200        0.0           0.0  \n",
       " 2022-11-17 00:00:00-05:00  21818700        0.0           0.0  \n",
       " 2022-11-18 00:00:00-05:00  24969900        0.0           0.0  \n",
       " ...                             ...        ...           ...  \n",
       " 2024-11-06 00:00:00-05:00  27061500        0.0           0.0  \n",
       " 2024-11-07 00:00:00-05:00  16730400        0.0           0.0  \n",
       " 2024-11-08 00:00:00-05:00  15021500        0.0           0.0  \n",
       " 2024-11-11 00:00:00-05:00  12492500        0.0           0.0  \n",
       " 2024-11-12 00:00:00-05:00   5071836        0.0           0.0  \n",
       " \n",
       " [502 rows x 7 columns],\n",
       " 'NVDA':                                  Open        High         Low       Close  \\\n",
       " Date                                                                        \n",
       " 2022-11-14 00:00:00-05:00   16.203184   16.524890   15.907454   16.280113   \n",
       " 2022-11-15 00:00:00-05:00   16.706726   16.982473   16.367037   16.650778   \n",
       " 2022-11-16 00:00:00-05:00   16.147236   16.347053   15.858500   15.895466   \n",
       " 2022-11-17 00:00:00-05:00   15.700643   16.251140   15.520807   15.662678   \n",
       " 2022-11-18 00:00:00-05:00   15.951413   15.987381   15.106186   15.394922   \n",
       " ...                               ...         ...         ...         ...   \n",
       " 2024-11-06 00:00:00-05:00  142.960007  146.490005  141.960007  145.610001   \n",
       " 2024-11-07 00:00:00-05:00  146.389999  148.929993  146.169998  148.880005   \n",
       " 2024-11-08 00:00:00-05:00  148.770004  149.770004  146.259995  147.630005   \n",
       " 2024-11-11 00:00:00-05:00  148.679993  148.850006  143.570007  145.259995   \n",
       " 2024-11-12 00:00:00-05:00  146.720001  149.619995  146.009995  149.300003   \n",
       " \n",
       "                               Volume  Dividends  Stock Splits  \n",
       " Date                                                           \n",
       " 2022-11-14 00:00:00-05:00  527852000        0.0           0.0  \n",
       " 2022-11-15 00:00:00-05:00  545876000        0.0           0.0  \n",
       " 2022-11-16 00:00:00-05:00  649547000        0.0           0.0  \n",
       " 2022-11-17 00:00:00-05:00  710894000        0.0           0.0  \n",
       " 2022-11-18 00:00:00-05:00  492072000        0.0           0.0  \n",
       " ...                              ...        ...           ...  \n",
       " 2024-11-06 00:00:00-05:00  242043900        0.0           0.0  \n",
       " 2024-11-07 00:00:00-05:00  207323300        0.0           0.0  \n",
       " 2024-11-08 00:00:00-05:00  175665800        0.0           0.0  \n",
       " 2024-11-11 00:00:00-05:00  181632600        0.0           0.0  \n",
       " 2024-11-12 00:00:00-05:00  102286722        0.0           0.0  \n",
       " \n",
       " [502 rows x 7 columns]}"
      ]
     },
     "execution_count": 83,
     "metadata": {},
     "output_type": "execute_result"
    }
   ],
   "source": [
    "# The following extracts data for the assets selected in industries array, and requests it's\n",
    "# historic data from the yfinance API (Which has more functionality per asset that just offering historic data)\n",
    "\n",
    "# Dictionary storing data, in the form of a pandas DataFrame, for every asset in 'symbols' array\n",
    "\n",
    "industry_data_dict = {}\n",
    "\n",
    "def retrieveData(asset: str, period: str):\n",
    "    data = yf.Ticker(asset)\n",
    "    return data.history(period=period)\n",
    "symbols = ['AAPL','META','AMZN','GOOG','NVDA','NFLX']\n",
    "NUMBER_ASSETS_TO_USE = len(symbols)-1\n",
    "#Choosing the first 10 to prevent rate limiting while testing\n",
    "# Making the period \"1mo\" while testing, can request \"10y\" and \"max\"\n",
    "for asset in symbols[:NUMBER_ASSETS_TO_USE]:\n",
    "    industry_data_dict[asset] = retrieveData(asset,\"2y\")\n",
    "\n",
    "# A potentially much better way of downloading the data is:\n",
    "# data = yf.download(symbols, start_date, end_date)['Adj Close']\n",
    "# Which returns a neat dataframe where the columns are the assets and rows the historic \n",
    "\n",
    "industry_data_dict\n",
    "# min_length = 1259\n",
    "# for (key,dataframe) in industry_data_dict.items():\n",
    "#     if len(dataframe)<min_length:\n",
    "#         min_length=len(dataframe)\n",
    "\n",
    "# for (key,dataframe) in industry_data_dict.items():\n",
    "#     dataframe[:min_length]\n",
    "# print(min_length)\n"
   ]
  },
  {
   "cell_type": "code",
   "execution_count": 84,
   "metadata": {},
   "outputs": [],
   "source": [
    "# function for retrieving timestamps of data in desired format for plotting\n",
    "\n",
    "def get_timestamps(symbol:str):\n",
    "    return list(map(lambda x: x.split(' ')[0] ,industry_data_dict[symbol].index.strftime('%Y-%m-%d %H:%M:%S').tolist()))\n",
    "\n",
    "# get_timestamps('BTC-USD')"
   ]
  },
  {
   "cell_type": "markdown",
   "metadata": {},
   "source": [
    "Some of the below code has been adapted from:\n",
    "https://medium.com/@TejasEkawade/time-series-cointegration-retail-and-finance-applications-with-python-implementation-2f3511200aa3"
   ]
  },
  {
   "cell_type": "code",
   "execution_count": 85,
   "metadata": {},
   "outputs": [],
   "source": [
    "# Function to plot graphs of co-integrated stocks for visualisation reasons:\n",
    "# assets = ['BTC-USD','ETH-USD']\n",
    "# start_date = '2021-10-01'\n",
    "# end_date = '2023-10-01'\n",
    "\n",
    "# below function takes in a dict of two items with ticker symbol as key and value an array of the data\n",
    "\n",
    "def plotGraph(assets: dict, data=None):\n",
    "    fig, axes = plt.subplots(nrows=1, ncols=2, figsize=(10, 3))\n",
    "    \n",
    "    # Access the first key and value for the first subplot\n",
    "    axes[0].plot(list(assets.values())[0])\n",
    "    axes[0].set_title(list(assets.keys())[0])\n",
    "    axes[0].tick_params('x', labelrotation=45)\n",
    "    \n",
    "    # Access the second key and value for the second subplot\n",
    "    axes[1].plot(list(assets.values())[1])\n",
    "    axes[1].set_title(list(assets.keys())[1])\n",
    "    axes[1].tick_params('x', labelrotation=45)\n",
    "    \n",
    "    plt.show()\n",
    "\n",
    "\n"
   ]
  },
  {
   "cell_type": "markdown",
   "metadata": {},
   "source": [
    "Now for the co-integration testing of stock A, Stock B pairs"
   ]
  },
  {
   "cell_type": "code",
   "execution_count": 86,
   "metadata": {},
   "outputs": [
    {
     "name": "stdout",
     "output_type": "stream",
     "text": [
      "Out of 10 combinations of pairs, 1 cointegrated pairs were found.\n"
     ]
    },
    {
     "data": {
      "image/png": "[encoded data removed]",
      "text/plain": [
       "<Figure size 1000x300 with 2 Axes>"
      ]
     },
     "metadata": {},
     "output_type": "display_data"
    }
   ],
   "source": [
    "possible_pairs_assets = itertools.combinations(industry_data_dict.keys(),2)\n",
    "cointegrated_stocks = []\n",
    "\n",
    "for (stock_A,stock_B) in possible_pairs_assets:\n",
    "    x = list(industry_data_dict[stock_A]['Close'])\n",
    "    y = list(industry_data_dict[stock_B]['Close'])\n",
    "    t_statistic, p_val, critical_p_val = coint(x,y)\n",
    "    # print(f' t statistic: {np.round(t_statistic, 2)} \\n p value: {np.round(p_val,2)} \\n critical p values [1%, 5%, 10%] critical_p_val')\n",
    "    if p_val < 0.05 and t_statistic < critical_p_val[1]: # critical_p_value is an array of 3 relating to 1% 5% 10% critical values for the hypothesis test\n",
    "        cointegrated_stocks.append((stock_A,stock_B))\n",
    "number_cointegrated_stocks = len(cointegrated_stocks)\n",
    "number_possible_combinations = math.comb(len(industry_data_dict.keys()),2)\n",
    "print(f\"Out of {number_possible_combinations} combinations of pairs, {number_cointegrated_stocks} cointegrated pairs were found.\")\n",
    "\n",
    "# pair = cointegrated_stocks[1]\n",
    "# coint_single_dict = {pair[0]: list(industry_data_dict[pair[0]]['Close']),\n",
    "#                      pair[1]: list(industry_data_dict[pair[1]]['Close'])}\n",
    "# plotGraph(coint_single_dict)\n",
    "\n",
    "for pairs in cointegrated_stocks:\n",
    "    pair = cointegrated_stocks[cointegrated_stocks.index(pairs)]\n",
    "    coint_single_dict = {pair[0]: list(industry_data_dict[pair[0]]['Close']),\n",
    "                     pair[1]: list(industry_data_dict[pair[1]]['Close'])}\n",
    "    plotGraph(coint_single_dict)"
   ]
  },
  {
   "cell_type": "code",
   "execution_count": 87,
   "metadata": {},
   "outputs": [
    {
     "name": "stdout",
     "output_type": "stream",
     "text": [
      "Stored 'cointegrated_stocks' (list)\n",
      "Stored 'industry_data_dict' (dict)\n"
     ]
    }
   ],
   "source": [
    "%store cointegrated_stocks industry_data_dict "
   ]
  },
  {
   "cell_type": "code",
   "execution_count": null,
   "metadata": {},
   "outputs": [],
   "source": []
  }
 ],
 "metadata": {
  "kernelspec": {
   "display_name": "quant",
   "language": "python",
   "name": "python3"
  },
  "language_info": {
   "codemirror_mode": {
    "name": "ipython",
    "version": 3
   },
   "file_extension": ".py",
   "mimetype": "text/x-python",
   "name": "python",
   "nbconvert_exporter": "python",
   "pygments_lexer": "ipython3",
   "version": "3.12.7"
  }
 },
 "nbformat": 4,
 "nbformat_minor": 2
}

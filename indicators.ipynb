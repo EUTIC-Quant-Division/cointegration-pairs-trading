{
 "cells": [
  {
   "cell_type": "code",
   "execution_count": 1,
   "metadata": {},
   "outputs": [],
   "source": [
    "import numpy as np\n",
    "import pandas as pd\n",
    "\n",
    "import statsmodels.api as sm\n",
    "from statsmodels.tsa.stattools import coint\n",
    "from statsmodels.regression.rolling import RollingOLS\n",
    "\n",
    "import yfinance as yf\n",
    "import seaborn\n",
    "import matplotlib.pyplot as plt\n",
    "\n",
    "import scipy.stats as stats"
   ]
  },
  {
   "cell_type": "code",
   "execution_count": null,
   "metadata": {},
   "outputs": [],
   "source": [
    "#The below code has functions to calculate certain stats based on rolling windows\n",
    "def zscore(series):\n",
    "    return (series - series.mean()) / np.std(series)\n",
    "def rollingVolatility(data: list, window: int = 20):\n",
    "    data_series = pd.Series(data)\n",
    "    price_change = data_series.pct_change().dropna()\n",
    "    rolling_volatility = price_change.rolling(window=window).std()\n",
    "    return rolling_volatility.dropna()\n",
    "\n",
    "def movingAverage(data:list,window: int=20):\n",
    "    data_series = pd.Series(data)\n",
    "    return data_series.rolling(window=window).mean().dropna()\n",
    "\n",
    "def standardiseMovingAverage(data:list, window: int=20):\n",
    "    return zscore(movingAverage(data , window))\n",
    "\n",
    "def p_value_marginal(data:list, window: int=20):\n",
    "    ma_zscores = standardiseMovingAverage(data, window)\n",
    "    ma_data = movingAverage(data, window)\n",
    "    ma_mean = ma_data.mean()\n",
    "    ma_std = ma_data.std()\n",
    "    daily_price = data.rolling(window=1)\n",
    "    z_score = (daily_price-ma_mean)/ma_std\n",
    "    return 1-(2*stats.norm.cdf(abs(z_score)))\n",
    "\n",
    "def p_spread_reverts_based_on_marginal_probability_and_volatility(data_stock_A, data_stock_B, window: int=20, marginal_volatility_sensitivity: float=0.5):\n",
    "    p_a = p_value_marginal(data_stock_A, window)\n",
    "    p_b = p_value_marginal(data_stock_B, window)\n",
    "    volatility_influence_a = marginal_volatility_sensitivity*rollingVolatility(data_stock_A,window)\n",
    "    volatility_influence_b = marginal_volatility_sensitivity*rollingVolatility(data_stock_B,window)\n",
    "    weighted_probability = volatility_influence_a * p_a + volatility_influence_b * p_b\n",
    "    probability = 1 / (1 + np.exp(-weighted_probability)) # apply sigmoid function to map p values into range between [0,1]\n",
    "    return probability.dropna()\n",
    "\n",
    "def p_spread_reverts(normalised_spread_data):\n",
    "    return 1-2*stats.norm.cdf(abs(normalised_spread_data))\n",
    "\n"
   ]
  },
  {
   "cell_type": "code",
   "execution_count": null,
   "metadata": {},
   "outputs": [],
   "source": [
    "config_df = {'stock A timeseries': S1,\n",
    "             'stock B timeseries': S2,\n",
    "             'Joint marginal probability': p_spread_reverts_based_on_marginal_probability_and_volatility(S1,S2),\n",
    "             'spread reverts probability': \n",
    "             \n",
    "             }\n",
    "resulting_stats = pd.DataFrame()"
   ]
  }
 ],
 "metadata": {
  "kernelspec": {
   "display_name": "quant",
   "language": "python",
   "name": "python3"
  },
  "language_info": {
   "codemirror_mode": {
    "name": "ipython",
    "version": 3
   },
   "file_extension": ".py",
   "mimetype": "text/x-python",
   "name": "python",
   "nbconvert_exporter": "python",
   "pygments_lexer": "ipython3",
   "version": "3.12.7"
  }
 },
 "nbformat": 4,
 "nbformat_minor": 2
}
